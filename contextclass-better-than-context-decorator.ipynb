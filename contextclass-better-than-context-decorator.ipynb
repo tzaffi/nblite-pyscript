{
 "cells": [
  {
   "attachments": {},
   "cell_type": "markdown",
   "metadata": {},
   "source": [
    "# Using Classes for Creating Python Contexts \n",
    "## is Better than `@contextmanager`\n",
    "### because exceptions are handled by default"
   ]
  },
  {
   "cell_type": "code",
   "execution_count": 1,
   "metadata": {},
   "outputs": [
    {
     "name": "stdout",
     "output_type": "stream",
     "text": [
      "x=13\n",
      "x=42\n",
      "x=13\n",
      "x=42\n",
      "ZeroDivisionError\n",
      "x=13\n"
     ]
    }
   ],
   "source": [
    "x = 13\n",
    "\n",
    "class FourtyTwo:\n",
    "    def __init__(self) -> None:\n",
    "        self.x = None\n",
    "\n",
    "    def __enter__(self) -> None:\n",
    "        global x\n",
    "        self.x = x\n",
    "        x = 42\n",
    "\n",
    "    def __exit__(self, *args: object) -> None:\n",
    "        global x\n",
    "        x = self.x\n",
    "\n",
    "\n",
    "print(f\"{x=}\")\n",
    "\n",
    "with FourtyTwo():\n",
    "    print(f\"{x=}\")\n",
    "\n",
    "print(f\"{x=}\")\n",
    "\n",
    "try:\n",
    "    with FourtyTwo():\n",
    "        print(f\"{x=}\")\n",
    "        print(42 / 0)\n",
    "except ZeroDivisionError:\n",
    "    print(\"ZeroDivisionError\")\n",
    "\n",
    "print(f\"{x=}\")"
   ]
  },
  {
   "cell_type": "code",
   "execution_count": 2,
   "metadata": {},
   "outputs": [
    {
     "name": "stdout",
     "output_type": "stream",
     "text": [
      "x=13\n",
      "x=42\n",
      "x=13\n",
      "x=42\n",
      "ZeroDivisionError\n",
      "x=42\n"
     ]
    }
   ],
   "source": [
    "from contextlib import contextmanager\n",
    "\n",
    "x = 13\n",
    "\n",
    "\n",
    "@contextmanager\n",
    "def fourty_two():\n",
    "    global x\n",
    "    old_x = x\n",
    "    x = 42\n",
    "    yield\n",
    "    x = old_x\n",
    "\n",
    "print(f\"{x=}\")\n",
    "\n",
    "with fourty_two():\n",
    "    print(f\"{x=}\")\n",
    "\n",
    "print(f\"{x=}\")\n",
    "\n",
    "try:\n",
    "    with fourty_two():\n",
    "        print(f\"{x=}\")\n",
    "        print(42 / 0)\n",
    "except ZeroDivisionError:\n",
    "    print(\"ZeroDivisionError\")\n",
    "\n",
    "print(f\"{x=}\")"
   ]
  },
  {
   "cell_type": "code",
   "execution_count": null,
   "metadata": {},
   "outputs": [],
   "source": []
  }
 ],
 "metadata": {
  "kernelspec": {
   "display_name": ".venv",
   "language": "python",
   "name": "python3"
  },
  "language_info": {
   "codemirror_mode": {
    "name": "ipython",
    "version": 3
   },
   "file_extension": ".py",
   "mimetype": "text/x-python",
   "name": "python",
   "nbconvert_exporter": "python",
   "pygments_lexer": "ipython3",
   "version": "3.11.1"
  },
  "orig_nbformat": 4
 },
 "nbformat": 4,
 "nbformat_minor": 2
}
